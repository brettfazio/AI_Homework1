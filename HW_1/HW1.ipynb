{
  "nbformat": 4,
  "nbformat_minor": 0,
  "metadata": {
    "colab": {
      "name": "HW1.ipynb",
      "provenance": [],
      "authorship_tag": "ABX9TyNDeIMmLvNKqxXSiBlNEY2o",
      "include_colab_link": true
    },
    "kernelspec": {
      "name": "python3",
      "display_name": "Python 3"
    }
  },
  "cells": [
    {
      "cell_type": "markdown",
      "metadata": {
        "id": "view-in-github",
        "colab_type": "text"
      },
      "source": [
        "<a href=\"https://colab.research.google.com/github/brettfazio/AI_Homework1/blob/master/HW_1/HW1.ipynb\" target=\"_parent\"><img src=\"https://colab.research.google.com/assets/colab-badge.svg\" alt=\"Open In Colab\"/></a>"
      ]
    },
    {
      "cell_type": "markdown",
      "metadata": {
        "id": "fCh_m4NrB2nG",
        "colab_type": "text"
      },
      "source": [
        "**Homework Problem 2 Specification:**\n",
        "\n",
        "Inside a colab notebook implement a Python function multiply_matrices that takes as input a list of numpy arrays and outputs their product. It should raise a custom exception if there is a pair of incompatible matrices. The exception message should provide information about which pair of matrices is bad. Make sure that you follow the style guide for Python. Also use simple markup for formatting your notebook and include a simple description of what your program does inside a text cell. You should also use some simple Latex commands, for instance, when explaining what it means for two matrices to be compatible.\n",
        "\n",
        "Make this notebook editable (so the TAs can directly put comments in the notebook), obtain a sharable link, enter it in Webcourses, and also save this notebook to your GitHub repo inside the folder called HW_1."
      ]
    },
    {
      "cell_type": "markdown",
      "metadata": {
        "id": "COgbqYsWixYF",
        "colab_type": "text"
      },
      "source": [
        "My program takes in a set of matrices like so:\n",
        "\n",
        "$$ M_{1} M_{2} M_{3} ... M_{n}$$\n",
        "\n",
        "And returns the result of those matrices mutliplied in that order assuming that they have the correct dimensions to perform matrix multiplication.\n",
        "\n",
        "Meaning:\n",
        "$$ A = M_{i} $$\n",
        "and \n",
        "$$ B = M_{i+1} $$ \n",
        "$$ A_{cols} = B_{rows} $$\n"
      ]
    },
    {
      "cell_type": "code",
      "metadata": {
        "id": "_5MHKF9aAwGb",
        "colab_type": "code",
        "colab": {}
      },
      "source": [
        "import numpy as np\n",
        "\n",
        "def multiply_matrices(matrices):\n",
        "  if (len(matrices) == 0):\n",
        "    return np.array([0])\n",
        "  result = matrices[0]\n",
        "\n",
        "  # Skip the first matrix as we set it as the result, iterate through the rest\n",
        "  i = 1\n",
        "  while i < len(matrices):\n",
        "    # Make sure the shapes are the same, raise an exception otherwise.\n",
        "    if result.shape[1] != matrices[i].shape[0]:\n",
        "      raise Exception('Matrices {} and {} do not share the proper col/row length pair. Cannot be multipled.'.format(i-1, i))\n",
        "    \n",
        "    result = np.matmul(result, matrices[i])\n",
        "    i = i + 1\n",
        "  \n",
        "  return result\n"
      ],
      "execution_count": 0,
      "outputs": []
    },
    {
      "cell_type": "markdown",
      "metadata": {
        "id": "a4XH0PnFFEYM",
        "colab_type": "text"
      },
      "source": [
        "The following are just a couple tests."
      ]
    },
    {
      "cell_type": "code",
      "metadata": {
        "id": "2eXoqtCLFIM5",
        "colab_type": "code",
        "outputId": "c99b6130-274c-4b08-e947-a0258f0657a4",
        "colab": {
          "base_uri": "https://localhost:8080/",
          "height": 68
        }
      },
      "source": [
        "mats = [np.array(([[1,2,3],[4,5,6]])), \n",
        "        np.array(([[7,8],[9,10],[11,12]]))]\n",
        "\n",
        "print(multiply_matrices(mats))\n",
        "\n",
        "second_working_example = [np.array(([[3,4,2]])), \n",
        "        np.array(([[13,9,7,15],[8,7,4,6],[6,4,0,3]]))]\n",
        "\n",
        "print(multiply_matrices(second_working_example))"
      ],
      "execution_count": 9,
      "outputs": [
        {
          "output_type": "stream",
          "text": [
            "[[ 58  64]\n",
            " [139 154]]\n",
            "[[83 63 37 75]]\n"
          ],
          "name": "stdout"
        }
      ]
    },
    {
      "cell_type": "markdown",
      "metadata": {
        "id": "DTH944RfGgsC",
        "colab_type": "text"
      },
      "source": [
        "Following test should throw an exception"
      ]
    },
    {
      "cell_type": "code",
      "metadata": {
        "id": "2v3CPDHoGfyb",
        "colab_type": "code",
        "outputId": "df318112-8635-48e2-ba5c-a7f4a49887d5",
        "colab": {
          "base_uri": "https://localhost:8080/",
          "height": 317
        }
      },
      "source": [
        "failing_test = [np.array(([[0,1,2,3], [4,5,6,7], [8,9,10,11]])),\n",
        "                np.array([[1,2,3],[2,3],[2,43,32]])]\n",
        "  \n",
        "print(multiply_matrices(failing_test))"
      ],
      "execution_count": 10,
      "outputs": [
        {
          "output_type": "error",
          "ename": "Exception",
          "evalue": "ignored",
          "traceback": [
            "\u001b[0;31m---------------------------------------------------------------------------\u001b[0m",
            "\u001b[0;31mException\u001b[0m                                 Traceback (most recent call last)",
            "\u001b[0;32m<ipython-input-10-72fec26423cc>\u001b[0m in \u001b[0;36m<module>\u001b[0;34m()\u001b[0m\n\u001b[1;32m      2\u001b[0m                 np.array([[1,2,3],[2,3],[2,43,32]])]\n\u001b[1;32m      3\u001b[0m \u001b[0;34m\u001b[0m\u001b[0m\n\u001b[0;32m----> 4\u001b[0;31m \u001b[0mprint\u001b[0m\u001b[0;34m(\u001b[0m\u001b[0mmultiply_matrices\u001b[0m\u001b[0;34m(\u001b[0m\u001b[0mfailing_test\u001b[0m\u001b[0;34m)\u001b[0m\u001b[0;34m)\u001b[0m\u001b[0;34m\u001b[0m\u001b[0;34m\u001b[0m\u001b[0m\n\u001b[0m",
            "\u001b[0;32m<ipython-input-2-a8ba43e6089a>\u001b[0m in \u001b[0;36mmultiply_matrices\u001b[0;34m(matrices)\u001b[0m\n\u001b[1;32m     11\u001b[0m     \u001b[0;31m# Make sure the shapes are the same, raise an exception otherwise.\u001b[0m\u001b[0;34m\u001b[0m\u001b[0;34m\u001b[0m\u001b[0;34m\u001b[0m\u001b[0m\n\u001b[1;32m     12\u001b[0m     \u001b[0;32mif\u001b[0m \u001b[0mresult\u001b[0m\u001b[0;34m.\u001b[0m\u001b[0mshape\u001b[0m\u001b[0;34m[\u001b[0m\u001b[0;36m1\u001b[0m\u001b[0;34m]\u001b[0m \u001b[0;34m!=\u001b[0m \u001b[0mmatrices\u001b[0m\u001b[0;34m[\u001b[0m\u001b[0mi\u001b[0m\u001b[0;34m]\u001b[0m\u001b[0;34m.\u001b[0m\u001b[0mshape\u001b[0m\u001b[0;34m[\u001b[0m\u001b[0;36m0\u001b[0m\u001b[0;34m]\u001b[0m\u001b[0;34m:\u001b[0m\u001b[0;34m\u001b[0m\u001b[0;34m\u001b[0m\u001b[0m\n\u001b[0;32m---> 13\u001b[0;31m       \u001b[0;32mraise\u001b[0m \u001b[0mException\u001b[0m\u001b[0;34m(\u001b[0m\u001b[0;34m'Matrices {} and {} do not share the prooper col/row length pair. Cannot be multipled.'\u001b[0m\u001b[0;34m.\u001b[0m\u001b[0mformat\u001b[0m\u001b[0;34m(\u001b[0m\u001b[0mi\u001b[0m\u001b[0;34m-\u001b[0m\u001b[0;36m1\u001b[0m\u001b[0;34m,\u001b[0m \u001b[0mi\u001b[0m\u001b[0;34m)\u001b[0m\u001b[0;34m)\u001b[0m\u001b[0;34m\u001b[0m\u001b[0;34m\u001b[0m\u001b[0m\n\u001b[0m\u001b[1;32m     14\u001b[0m \u001b[0;34m\u001b[0m\u001b[0m\n\u001b[1;32m     15\u001b[0m     \u001b[0mresult\u001b[0m \u001b[0;34m=\u001b[0m \u001b[0mnp\u001b[0m\u001b[0;34m.\u001b[0m\u001b[0mmatmul\u001b[0m\u001b[0;34m(\u001b[0m\u001b[0mresult\u001b[0m\u001b[0;34m,\u001b[0m \u001b[0mmatrices\u001b[0m\u001b[0;34m[\u001b[0m\u001b[0mi\u001b[0m\u001b[0;34m]\u001b[0m\u001b[0;34m)\u001b[0m\u001b[0;34m\u001b[0m\u001b[0;34m\u001b[0m\u001b[0m\n",
            "\u001b[0;31mException\u001b[0m: Matrices 0 and 1 do not share the prooper col/row length pair. Cannot be multipled."
          ]
        }
      ]
    }
  ]
}
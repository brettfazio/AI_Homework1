{
  "nbformat": 4,
  "nbformat_minor": 0,
  "metadata": {
    "colab": {
      "name": "HW1.ipynb",
      "provenance": [],
      "authorship_tag": "ABX9TyPiohxyFdqmtVzN7nd70iKF",
      "include_colab_link": true
    },
    "kernelspec": {
      "name": "python3",
      "display_name": "Python 3"
    }
  },
  "cells": [
    {
      "cell_type": "markdown",
      "metadata": {
        "id": "view-in-github",
        "colab_type": "text"
      },
      "source": [
        "<a href=\"https://colab.research.google.com/github/brettfazio/AI_Homework1/blob/master/HW_1/HW1.ipynb\" target=\"_parent\"><img src=\"https://colab.research.google.com/assets/colab-badge.svg\" alt=\"Open In Colab\"/></a>"
      ]
    },
    {
      "cell_type": "markdown",
      "metadata": {
        "id": "fCh_m4NrB2nG",
        "colab_type": "text"
      },
      "source": [
        "**Homework Problem 2 Specification:**\n",
        "\n",
        "Inside a colab notebook implement a Python function multiply_matrices that takes as input a list of numpy arrays and outputs their product. It should raise a custom exception if there is a pair of incompatible matrices. The exception message should provide information about which pair of matrices is bad. Make sure that you follow the style guide for Python.\n",
        "\n",
        "Make this notebook editable (so the TAs can directly put comments in the notebook), obtain a sharable link, enter it in Webcourses, and also save this notebook to your GitHub repo inside the folder called HW_1."
      ]
    },
    {
      "cell_type": "code",
      "metadata": {
        "id": "_5MHKF9aAwGb",
        "colab_type": "code",
        "colab": {}
      },
      "source": [
        "import numpy as np\n",
        "\n",
        "def multiply_matrices(matrices):\n",
        "  if (len(matrices) == 0):\n",
        "    return np.array([0])\n",
        "  result = matrices[0]\n",
        "\n",
        "  # Skip the first matrix as we set it as the result, iterate through the rest\n",
        "  i = 1\n",
        "  while i < len(matrices):\n",
        "    # Make sure the shapes are the same, raise an exception otherwise.\n",
        "    if result.shape != matrices[i].shape:\n",
        "      raise Exception('Matrices {} and {} do not have the same shape. Cannot be multipled.'.format(i-1, i))\n",
        "    \n",
        "    result = result * matrices[i]\n",
        "    i = i + 1\n",
        "  \n",
        "  return result\n"
      ],
      "execution_count": 0,
      "outputs": []
    },
    {
      "cell_type": "markdown",
      "metadata": {
        "id": "a4XH0PnFFEYM",
        "colab_type": "text"
      },
      "source": [
        "The following are just a couple tests."
      ]
    },
    {
      "cell_type": "code",
      "metadata": {
        "id": "2eXoqtCLFIM5",
        "colab_type": "code",
        "colab": {
          "base_uri": "https://localhost:8080/",
          "height": 68
        },
        "outputId": "d72e3def-1a60-4236-f128-4b350f9641dd"
      },
      "source": [
        "mats = [np.array(([[0,1,2,3], [4,5,6,7], [8,9,10,11]])), \n",
        "        np.array(([[0,1,2,3], [4,5,6,7], [8,9,10,11]])),\n",
        "        np.array(([[0,1,2,3], [4,5,6,7], [8,9,10,11]]))]\n",
        "\n",
        "print(multiply_matrices(mats))"
      ],
      "execution_count": 21,
      "outputs": [
        {
          "output_type": "stream",
          "text": [
            "[[   0    1    8   27]\n",
            " [  64  125  216  343]\n",
            " [ 512  729 1000 1331]]\n"
          ],
          "name": "stdout"
        }
      ]
    },
    {
      "cell_type": "markdown",
      "metadata": {
        "id": "DTH944RfGgsC",
        "colab_type": "text"
      },
      "source": [
        "Following test should throw an exception"
      ]
    },
    {
      "cell_type": "code",
      "metadata": {
        "id": "2v3CPDHoGfyb",
        "colab_type": "code",
        "colab": {
          "base_uri": "https://localhost:8080/",
          "height": 317
        },
        "outputId": "114960e2-9f7a-41a6-fee0-c0a81a59154e"
      },
      "source": [
        "failing_test = [np.array(([[0,1,2,3], [4,5,6,7], [8,9,10,11]])),\n",
        "                np.array([[1,2,3],[2,3],[2,43,32]])]\n",
        "  \n",
        "print(multiply_matrices(failing_test))"
      ],
      "execution_count": 20,
      "outputs": [
        {
          "output_type": "error",
          "ename": "Exception",
          "evalue": "ignored",
          "traceback": [
            "\u001b[0;31m---------------------------------------------------------------------------\u001b[0m",
            "\u001b[0;31mException\u001b[0m                                 Traceback (most recent call last)",
            "\u001b[0;32m<ipython-input-20-72fec26423cc>\u001b[0m in \u001b[0;36m<module>\u001b[0;34m()\u001b[0m\n\u001b[1;32m      2\u001b[0m                 np.array([[1,2,3],[2,3],[2,43,32]])]\n\u001b[1;32m      3\u001b[0m \u001b[0;34m\u001b[0m\u001b[0m\n\u001b[0;32m----> 4\u001b[0;31m \u001b[0mprint\u001b[0m\u001b[0;34m(\u001b[0m\u001b[0mmultiply_matrices\u001b[0m\u001b[0;34m(\u001b[0m\u001b[0mfailing_test\u001b[0m\u001b[0;34m)\u001b[0m\u001b[0;34m)\u001b[0m\u001b[0;34m\u001b[0m\u001b[0;34m\u001b[0m\u001b[0m\n\u001b[0m",
            "\u001b[0;32m<ipython-input-18-4e4cdd34c31f>\u001b[0m in \u001b[0;36mmultiply_matrices\u001b[0;34m(matrices)\u001b[0m\n\u001b[1;32m     11\u001b[0m     \u001b[0;31m# Make sure the shapes are the same, raise an exception otherwise.\u001b[0m\u001b[0;34m\u001b[0m\u001b[0;34m\u001b[0m\u001b[0;34m\u001b[0m\u001b[0m\n\u001b[1;32m     12\u001b[0m     \u001b[0;32mif\u001b[0m \u001b[0mresult\u001b[0m\u001b[0;34m.\u001b[0m\u001b[0mshape\u001b[0m \u001b[0;34m!=\u001b[0m \u001b[0mmatrices\u001b[0m\u001b[0;34m[\u001b[0m\u001b[0mi\u001b[0m\u001b[0;34m]\u001b[0m\u001b[0;34m.\u001b[0m\u001b[0mshape\u001b[0m\u001b[0;34m:\u001b[0m\u001b[0;34m\u001b[0m\u001b[0;34m\u001b[0m\u001b[0m\n\u001b[0;32m---> 13\u001b[0;31m       \u001b[0;32mraise\u001b[0m \u001b[0mException\u001b[0m\u001b[0;34m(\u001b[0m\u001b[0;34m'Matrices {} and {} do not have the same shape. Cannot be multipled.'\u001b[0m\u001b[0;34m.\u001b[0m\u001b[0mformat\u001b[0m\u001b[0;34m(\u001b[0m\u001b[0mi\u001b[0m\u001b[0;34m-\u001b[0m\u001b[0;36m1\u001b[0m\u001b[0;34m,\u001b[0m \u001b[0mi\u001b[0m\u001b[0;34m)\u001b[0m\u001b[0;34m)\u001b[0m\u001b[0;34m\u001b[0m\u001b[0;34m\u001b[0m\u001b[0m\n\u001b[0m\u001b[1;32m     14\u001b[0m \u001b[0;34m\u001b[0m\u001b[0m\n\u001b[1;32m     15\u001b[0m     \u001b[0mresult\u001b[0m \u001b[0;34m=\u001b[0m \u001b[0mresult\u001b[0m \u001b[0;34m*\u001b[0m \u001b[0mmatrices\u001b[0m\u001b[0;34m[\u001b[0m\u001b[0mi\u001b[0m\u001b[0;34m]\u001b[0m\u001b[0;34m\u001b[0m\u001b[0;34m\u001b[0m\u001b[0m\n",
            "\u001b[0;31mException\u001b[0m: Matrices 0 and 1 do not have the same shape. Cannot be multipled."
          ]
        }
      ]
    }
  ]
}